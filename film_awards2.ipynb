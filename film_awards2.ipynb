{
 "cells": [
  {
   "cell_type": "code",
   "execution_count": 181,
   "metadata": {},
   "outputs": [],
   "source": [
    "import numpy as np\n",
    "import pandas as pd\n",
    "baftas = pd.read_csv('baftas.csv')"
   ]
  },
  {
   "cell_type": "code",
   "execution_count": 182,
   "metadata": {},
   "outputs": [],
   "source": [
    "nominee = pd.Series(baftas.nominee.unique())\n",
    "workers = pd.Series(baftas.workers.unique())\n",
    "names = nominee.append(workers)\n",
    "names = pd.Series(names.unique())"
   ]
  },
  {
   "cell_type": "code",
   "execution_count": 183,
   "metadata": {},
   "outputs": [],
   "source": [
    "def bafta_noms(name):\n",
    "    nom = baftas.query('nominee == @name | workers == @name').year.values\n",
    "    won = baftas.query('(nominee == @name | workers == @name) & winner == True').year.values\n",
    "    return dict(nom=nom, won=won)"
   ]
  },
  {
   "cell_type": "code",
   "execution_count": 214,
   "metadata": {},
   "outputs": [],
   "source": [
    "df = pd.DataFrame(columns=['nom', 'won'])\n"
   ]
  },
  {
   "cell_type": "code",
   "execution_count": 221,
   "metadata": {},
   "outputs": [],
   "source": [
    "for name in names:\n",
    "    res = bafta_noms(name)\n",
    "    ser = pd.Series(res, name=name)\n",
    "    df = df.append(ser)\n"
   ]
  },
  {
   "cell_type": "code",
   "execution_count": 233,
   "metadata": {},
   "outputs": [
    {
     "data": {
      "text/html": [
       "<div>\n",
       "<style scoped>\n",
       "    .dataframe tbody tr th:only-of-type {\n",
       "        vertical-align: middle;\n",
       "    }\n",
       "\n",
       "    .dataframe tbody tr th {\n",
       "        vertical-align: top;\n",
       "    }\n",
       "\n",
       "    .dataframe thead th {\n",
       "        text-align: right;\n",
       "    }\n",
       "</style>\n",
       "<table border=\"1\" class=\"dataframe\">\n",
       "  <thead>\n",
       "    <tr style=\"text-align: right;\">\n",
       "      <th></th>\n",
       "      <th>nom</th>\n",
       "      <th>won</th>\n",
       "    </tr>\n",
       "  </thead>\n",
       "  <tbody>\n",
       "    <tr>\n",
       "      <th>The Fallen Idol</th>\n",
       "      <td>[1949, 1949]</td>\n",
       "      <td>[1949]</td>\n",
       "    </tr>\n",
       "    <tr>\n",
       "      <th>Hamlet</th>\n",
       "      <td>[1949, 1949, 1992]</td>\n",
       "      <td>[1949]</td>\n",
       "    </tr>\n",
       "    <tr>\n",
       "      <th>Oliver Twist</th>\n",
       "      <td>[1949]</td>\n",
       "      <td>[]</td>\n",
       "    </tr>\n",
       "    <tr>\n",
       "      <th>The Fallen Idol</th>\n",
       "      <td>[1949, 1949]</td>\n",
       "      <td>[1949]</td>\n",
       "    </tr>\n",
       "    <tr>\n",
       "      <th>Hamlet</th>\n",
       "      <td>[1949, 1949, 1992]</td>\n",
       "      <td>[1949]</td>\n",
       "    </tr>\n",
       "    <tr>\n",
       "      <th>...</th>\n",
       "      <td>...</td>\n",
       "      <td>...</td>\n",
       "    </tr>\n",
       "    <tr>\n",
       "      <th>Ivan Busquets, Leandro Estebecorena, Stephane Grabli, Pablo Helman</th>\n",
       "      <td>[2020]</td>\n",
       "      <td>[]</td>\n",
       "    </tr>\n",
       "    <tr>\n",
       "      <th>Andrew R. Jones, Robert Legato, Elliot Newman, Adam Valdez</th>\n",
       "      <td>[2020]</td>\n",
       "      <td>[]</td>\n",
       "    </tr>\n",
       "    <tr>\n",
       "      <th>Roger Guyett, Paul Kavanagh, Neal Scanlan, Dominic Tuohy</th>\n",
       "      <td>[2020]</td>\n",
       "      <td>[]</td>\n",
       "    </tr>\n",
       "    <tr>\n",
       "      <th>A Beautiful Day in the Neighborhood</th>\n",
       "      <td>[2020]</td>\n",
       "      <td>[]</td>\n",
       "    </tr>\n",
       "    <tr>\n",
       "      <th>Laura Dern</th>\n",
       "      <td>[2020]</td>\n",
       "      <td>[2020]</td>\n",
       "    </tr>\n",
       "  </tbody>\n",
       "</table>\n",
       "<p>4479 rows × 2 columns</p>\n",
       "</div>"
      ],
      "text/plain": [
       "                                                                   nom     won\n",
       "The Fallen Idol                                           [1949, 1949]  [1949]\n",
       "Hamlet                                              [1949, 1949, 1992]  [1949]\n",
       "Oliver Twist                                                    [1949]      []\n",
       "The Fallen Idol                                           [1949, 1949]  [1949]\n",
       "Hamlet                                              [1949, 1949, 1992]  [1949]\n",
       "...                                                                ...     ...\n",
       "Ivan Busquets, Leandro Estebecorena, Stephane G...              [2020]      []\n",
       "Andrew R. Jones, Robert Legato, Elliot Newman, ...              [2020]      []\n",
       "Roger Guyett, Paul Kavanagh, Neal Scanlan, Domi...              [2020]      []\n",
       "A Beautiful Day in the Neighborhood                             [2020]      []\n",
       "Laura Dern                                                      [2020]  [2020]\n",
       "\n",
       "[4479 rows x 2 columns]"
      ]
     },
     "execution_count": 233,
     "metadata": {},
     "output_type": "execute_result"
    }
   ],
   "source": [
    "df\n"
   ]
  },
  {
   "cell_type": "code",
   "execution_count": 234,
   "metadata": {},
   "outputs": [],
   "source": [
    "df.to_csv('bafta_noms_years.csv')"
   ]
  },
  {
   "cell_type": "code",
   "execution_count": 243,
   "metadata": {},
   "outputs": [],
   "source": [
    "globes = pd.read_csv('globes_.csv')"
   ]
  },
  {
   "cell_type": "code",
   "execution_count": 237,
   "metadata": {},
   "outputs": [],
   "source": [
    "nominee = pd.Series(globes.nominee.unique())\n",
    "film = pd.Series(globes.film.unique())\n",
    "names = nominee.append(film)\n",
    "names = pd.Series(names.unique())"
   ]
  },
  {
   "cell_type": "code",
   "execution_count": 244,
   "metadata": {},
   "outputs": [],
   "source": [
    "def globes_noms(name):\n",
    "    nom = globes.query('nominee == @name | film == @name').year_award.values\n",
    "    won = globes.query('(nominee == @name | film == @name) & win == True').year_award.values\n",
    "    return dict(nom=nom, won=won)"
   ]
  },
  {
   "cell_type": "code",
   "execution_count": 245,
   "metadata": {},
   "outputs": [],
   "source": [
    "df = pd.DataFrame(columns=['nom', 'won'])"
   ]
  },
  {
   "cell_type": "code",
   "execution_count": 246,
   "metadata": {},
   "outputs": [],
   "source": [
    "for name in names:\n",
    "    res = globes_noms(name)\n",
    "    ser = pd.Series(res, name=name)\n",
    "    df = df.append(ser)"
   ]
  },
  {
   "cell_type": "code",
   "execution_count": 247,
   "metadata": {},
   "outputs": [
    {
     "data": {
      "text/html": [
       "<div>\n",
       "<style scoped>\n",
       "    .dataframe tbody tr th:only-of-type {\n",
       "        vertical-align: middle;\n",
       "    }\n",
       "\n",
       "    .dataframe tbody tr th {\n",
       "        vertical-align: top;\n",
       "    }\n",
       "\n",
       "    .dataframe thead th {\n",
       "        text-align: right;\n",
       "    }\n",
       "</style>\n",
       "<table border=\"1\" class=\"dataframe\">\n",
       "  <thead>\n",
       "    <tr style=\"text-align: right;\">\n",
       "      <th></th>\n",
       "      <th>nom</th>\n",
       "      <th>won</th>\n",
       "    </tr>\n",
       "  </thead>\n",
       "  <tbody>\n",
       "    <tr>\n",
       "      <th>Katina Paxinou</th>\n",
       "      <td>[1944]</td>\n",
       "      <td>[1944]</td>\n",
       "    </tr>\n",
       "    <tr>\n",
       "      <th>Akim Tamiroff</th>\n",
       "      <td>[1944]</td>\n",
       "      <td>[1944]</td>\n",
       "    </tr>\n",
       "    <tr>\n",
       "      <th>Henry King</th>\n",
       "      <td>[1944, 1956]</td>\n",
       "      <td>[1944, 1956]</td>\n",
       "    </tr>\n",
       "    <tr>\n",
       "      <th>The Song Of Bernadette</th>\n",
       "      <td>[1944, 1944, 1944]</td>\n",
       "      <td>[1944, 1944, 1944]</td>\n",
       "    </tr>\n",
       "    <tr>\n",
       "      <th>Jennifer Jones</th>\n",
       "      <td>[1944, 1975]</td>\n",
       "      <td>[1944]</td>\n",
       "    </tr>\n",
       "    <tr>\n",
       "      <th>...</th>\n",
       "      <td>...</td>\n",
       "      <td>...</td>\n",
       "    </tr>\n",
       "    <tr>\n",
       "      <th>On Becoming a God in Central Florida</th>\n",
       "      <td>[2020]</td>\n",
       "      <td>[]</td>\n",
       "    </tr>\n",
       "    <tr>\n",
       "      <th>Russian Doll</th>\n",
       "      <td>[2020]</td>\n",
       "      <td>[]</td>\n",
       "    </tr>\n",
       "    <tr>\n",
       "      <th>Ramy</th>\n",
       "      <td>[2020]</td>\n",
       "      <td>[2020]</td>\n",
       "    </tr>\n",
       "    <tr>\n",
       "      <th>The Politician</th>\n",
       "      <td>[2020]</td>\n",
       "      <td>[]</td>\n",
       "    </tr>\n",
       "    <tr>\n",
       "      <th>Living with Yourself</th>\n",
       "      <td>[2020]</td>\n",
       "      <td>[]</td>\n",
       "    </tr>\n",
       "  </tbody>\n",
       "</table>\n",
       "<p>6441 rows × 2 columns</p>\n",
       "</div>"
      ],
      "text/plain": [
       "                                                     nom                 won\n",
       "Katina Paxinou                                    [1944]              [1944]\n",
       "Akim Tamiroff                                     [1944]              [1944]\n",
       "Henry King                                  [1944, 1956]        [1944, 1956]\n",
       "The Song Of Bernadette                [1944, 1944, 1944]  [1944, 1944, 1944]\n",
       "Jennifer Jones                              [1944, 1975]              [1944]\n",
       "...                                                  ...                 ...\n",
       "On Becoming a God in Central Florida              [2020]                  []\n",
       "Russian Doll                                      [2020]                  []\n",
       "Ramy                                              [2020]              [2020]\n",
       "The Politician                                    [2020]                  []\n",
       "Living with Yourself                              [2020]                  []\n",
       "\n",
       "[6441 rows x 2 columns]"
      ]
     },
     "execution_count": 247,
     "metadata": {},
     "output_type": "execute_result"
    }
   ],
   "source": [
    "df"
   ]
  },
  {
   "cell_type": "code",
   "execution_count": 248,
   "metadata": {},
   "outputs": [],
   "source": [
    "df.to_csv('globes_noms_year.csv')"
   ]
  },
  {
   "cell_type": "code",
   "execution_count": 295,
   "metadata": {},
   "outputs": [],
   "source": [
    "oscars = pd.read_csv('the_oscar_award.csv')"
   ]
  },
  {
   "cell_type": "code",
   "execution_count": 296,
   "metadata": {},
   "outputs": [],
   "source": [
    "nominee = pd.Series(oscars.name.unique())\n",
    "film = pd.Series(oscars.film.unique())\n",
    "names = nominee.append(film)\n",
    "names = pd.Series(names.unique())"
   ]
  },
  {
   "cell_type": "code",
   "execution_count": 297,
   "metadata": {},
   "outputs": [],
   "source": [
    "def oscars_noms(name):\n",
    "    nom = oscars.query('name == @name | film == @name').year_ceremony.values\n",
    "    won = oscars.query('(name == @name | film == @name) & winner == True').year_ceremony.values\n",
    "    return dict(nom=nom, won=won)"
   ]
  },
  {
   "cell_type": "code",
   "execution_count": 298,
   "metadata": {},
   "outputs": [],
   "source": [
    "df = pd.DataFrame(columns=['nom', 'won'])"
   ]
  },
  {
   "cell_type": "code",
   "execution_count": 299,
   "metadata": {},
   "outputs": [],
   "source": [
    "for name in names:\n",
    "    res = oscars_noms(name)\n",
    "    ser = pd.Series(res, name=name)\n",
    "    df = df.append(ser)"
   ]
  },
  {
   "cell_type": "code",
   "execution_count": 343,
   "metadata": {},
   "outputs": [
    {
     "data": {
      "text/html": [
       "<div>\n",
       "<style scoped>\n",
       "    .dataframe tbody tr th:only-of-type {\n",
       "        vertical-align: middle;\n",
       "    }\n",
       "\n",
       "    .dataframe tbody tr th {\n",
       "        vertical-align: top;\n",
       "    }\n",
       "\n",
       "    .dataframe thead th {\n",
       "        text-align: right;\n",
       "    }\n",
       "</style>\n",
       "<table border=\"1\" class=\"dataframe\">\n",
       "  <thead>\n",
       "    <tr style=\"text-align: right;\">\n",
       "      <th></th>\n",
       "      <th>nom</th>\n",
       "      <th>won</th>\n",
       "    </tr>\n",
       "  </thead>\n",
       "  <tbody>\n",
       "    <tr>\n",
       "      <th>Richard Barthelmess</th>\n",
       "      <td>[1928]</td>\n",
       "      <td>[]</td>\n",
       "    </tr>\n",
       "    <tr>\n",
       "      <th>Emil Jannings</th>\n",
       "      <td>[1928]</td>\n",
       "      <td>[1928]</td>\n",
       "    </tr>\n",
       "    <tr>\n",
       "      <th>Louise Dresser</th>\n",
       "      <td>[1928]</td>\n",
       "      <td>[]</td>\n",
       "    </tr>\n",
       "    <tr>\n",
       "      <th>Janet Gaynor</th>\n",
       "      <td>[1928, 1938]</td>\n",
       "      <td>[1928]</td>\n",
       "    </tr>\n",
       "    <tr>\n",
       "      <th>Gloria Swanson</th>\n",
       "      <td>[1928, 1930, 1951]</td>\n",
       "      <td>[]</td>\n",
       "    </tr>\n",
       "    <tr>\n",
       "      <th>...</th>\n",
       "      <td>...</td>\n",
       "      <td>...</td>\n",
       "    </tr>\n",
       "    <tr>\n",
       "      <th>Saria</th>\n",
       "      <td>[2020]</td>\n",
       "      <td>[]</td>\n",
       "    </tr>\n",
       "    <tr>\n",
       "      <th>A Sister</th>\n",
       "      <td>[2020]</td>\n",
       "      <td>[]</td>\n",
       "    </tr>\n",
       "    <tr>\n",
       "      <th>Ad Astra</th>\n",
       "      <td>[2020]</td>\n",
       "      <td>[]</td>\n",
       "    </tr>\n",
       "    <tr>\n",
       "      <th>Avengers: Endgame</th>\n",
       "      <td>[2020]</td>\n",
       "      <td>[]</td>\n",
       "    </tr>\n",
       "    <tr>\n",
       "      <th>Knives Out</th>\n",
       "      <td>[2020]</td>\n",
       "      <td>[]</td>\n",
       "    </tr>\n",
       "  </tbody>\n",
       "</table>\n",
       "<p>11493 rows × 2 columns</p>\n",
       "</div>"
      ],
      "text/plain": [
       "                                    nom     won\n",
       "Richard Barthelmess              [1928]      []\n",
       "Emil Jannings                    [1928]  [1928]\n",
       "Louise Dresser                   [1928]      []\n",
       "Janet Gaynor               [1928, 1938]  [1928]\n",
       "Gloria Swanson       [1928, 1930, 1951]      []\n",
       "...                                 ...     ...\n",
       "Saria                            [2020]      []\n",
       "A Sister                         [2020]      []\n",
       "Ad Astra                         [2020]      []\n",
       "Avengers: Endgame                [2020]      []\n",
       "Knives Out                       [2020]      []\n",
       "\n",
       "[11493 rows x 2 columns]"
      ]
     },
     "execution_count": 343,
     "metadata": {},
     "output_type": "execute_result"
    }
   ],
   "source": [
    "df"
   ]
  },
  {
   "cell_type": "code",
   "execution_count": 344,
   "metadata": {},
   "outputs": [],
   "source": [
    "df.to_csv('oscar_noms_by_year.csv')"
   ]
  },
  {
   "cell_type": "code",
   "execution_count": 361,
   "metadata": {},
   "outputs": [
    {
     "data": {
      "text/plain": [
       "array([array([1940]), array([1942]), array([1942, 1946]),\n",
       "       array([1945, 1946, 1951, 1954, 1955, 1958, 1960, 1961, 1988]),\n",
       "       array([1945]), array([1949]), array([1951]), array([1952]),\n",
       "       array([1955]), array([1960, 1961, 1967]), array([1961])],\n",
       "      dtype=object)"
      ]
     },
     "execution_count": 361,
     "metadata": {},
     "output_type": "execute_result"
    }
   ],
   "source": [
    "df.filter(like='Billy Wilder', axis=0).nom.values #to find names in team awards\n"
   ]
  },
  {
   "cell_type": "code",
   "execution_count": null,
   "metadata": {},
   "outputs": [],
   "source": []
  },
  {
   "cell_type": "code",
   "execution_count": null,
   "metadata": {},
   "outputs": [],
   "source": []
  }
 ],
 "metadata": {
  "kernelspec": {
   "display_name": "Python 3",
   "language": "python",
   "name": "python3"
  },
  "language_info": {
   "codemirror_mode": {
    "name": "ipython",
    "version": 3
   },
   "file_extension": ".py",
   "mimetype": "text/x-python",
   "name": "python",
   "nbconvert_exporter": "python",
   "pygments_lexer": "ipython3",
   "version": "3.7.6"
  }
 },
 "nbformat": 4,
 "nbformat_minor": 4
}
