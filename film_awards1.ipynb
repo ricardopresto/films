{
 "cells": [
  {
   "cell_type": "code",
   "execution_count": 1,
   "metadata": {},
   "outputs": [],
   "source": [
    "import pandas as pd\n",
    "import numpy as np\n",
    "oscars = pd.read_csv('oscars.csv')"
   ]
  },
  {
   "cell_type": "code",
   "execution_count": 2,
   "metadata": {},
   "outputs": [
    {
     "data": {
      "text/html": [
       "<div>\n",
       "<style scoped>\n",
       "    .dataframe tbody tr th:only-of-type {\n",
       "        vertical-align: middle;\n",
       "    }\n",
       "\n",
       "    .dataframe tbody tr th {\n",
       "        vertical-align: top;\n",
       "    }\n",
       "\n",
       "    .dataframe thead th {\n",
       "        text-align: right;\n",
       "    }\n",
       "</style>\n",
       "<table border=\"1\" class=\"dataframe\">\n",
       "  <thead>\n",
       "    <tr style=\"text-align: right;\">\n",
       "      <th></th>\n",
       "      <th>year</th>\n",
       "      <th>category</th>\n",
       "      <th>winner</th>\n",
       "      <th>entity</th>\n",
       "    </tr>\n",
       "  </thead>\n",
       "  <tbody>\n",
       "    <tr>\n",
       "      <th>11053</th>\n",
       "      <td>2017</td>\n",
       "      <td>SCIENTIFIC AND TECHNICAL AWARD (Scientific and...</td>\n",
       "      <td>True</td>\n",
       "      <td>To LEONARD CHAPMAN for the overall concept, de...</td>\n",
       "    </tr>\n",
       "    <tr>\n",
       "      <th>11054</th>\n",
       "      <td>2017</td>\n",
       "      <td>SCIENTIFIC AND TECHNICAL AWARD (Technical Achi...</td>\n",
       "      <td>True</td>\n",
       "      <td>To JASON SMITH and JEFF WHITE for the original...</td>\n",
       "    </tr>\n",
       "    <tr>\n",
       "      <th>11055</th>\n",
       "      <td>2017</td>\n",
       "      <td>SCIENTIFIC AND TECHNICAL AWARD (Technical Achi...</td>\n",
       "      <td>True</td>\n",
       "      <td>To JOE MANCEWICZ, MATT DERKSEN and HANS RIJPKE...</td>\n",
       "    </tr>\n",
       "    <tr>\n",
       "      <th>11056</th>\n",
       "      <td>2017</td>\n",
       "      <td>SCIENTIFIC AND TECHNICAL AWARD (Technical Achi...</td>\n",
       "      <td>True</td>\n",
       "      <td>To ALEX POWELL for his contribution to the des...</td>\n",
       "    </tr>\n",
       "    <tr>\n",
       "      <th>11057</th>\n",
       "      <td>2017</td>\n",
       "      <td>SCIENTIFIC AND TECHNICAL AWARD (Technical Achi...</td>\n",
       "      <td>True</td>\n",
       "      <td>To ROB JENSEN for the foundational design and ...</td>\n",
       "    </tr>\n",
       "  </tbody>\n",
       "</table>\n",
       "</div>"
      ],
      "text/plain": [
       "       year                                           category  winner  \\\n",
       "11053  2017  SCIENTIFIC AND TECHNICAL AWARD (Scientific and...    True   \n",
       "11054  2017  SCIENTIFIC AND TECHNICAL AWARD (Technical Achi...    True   \n",
       "11055  2017  SCIENTIFIC AND TECHNICAL AWARD (Technical Achi...    True   \n",
       "11056  2017  SCIENTIFIC AND TECHNICAL AWARD (Technical Achi...    True   \n",
       "11057  2017  SCIENTIFIC AND TECHNICAL AWARD (Technical Achi...    True   \n",
       "\n",
       "                                                  entity  \n",
       "11053  To LEONARD CHAPMAN for the overall concept, de...  \n",
       "11054  To JASON SMITH and JEFF WHITE for the original...  \n",
       "11055  To JOE MANCEWICZ, MATT DERKSEN and HANS RIJPKE...  \n",
       "11056  To ALEX POWELL for his contribution to the des...  \n",
       "11057  To ROB JENSEN for the foundational design and ...  "
      ]
     },
     "execution_count": 2,
     "metadata": {},
     "output_type": "execute_result"
    }
   ],
   "source": [
    "#oscars.query('year == \"1999\"').category.unique()\n",
    "oscars.tail()"
   ]
  },
  {
   "cell_type": "code",
   "execution_count": 3,
   "metadata": {},
   "outputs": [
    {
     "name": "stdout",
     "output_type": "stream",
     "text": [
      "Nominated: 10   Won: 2\n"
     ]
    }
   ],
   "source": [
    "baftas = pd.read_csv('baftas.csv')\n",
    "\n",
    "def bafta_noms(name):\n",
    "    #includes actor awards in film results\n",
    "    nom = len(baftas.query('nominee == @name')) + len(baftas.query('workers == @name'))\n",
    "    won = len(baftas.query('nominee == @name & winner == True')) + len(baftas.query('workers == @name & winner == True'))\n",
    "    print('Nominated: %s   Won: %s' % (nom, won))\n",
    "\n",
    "bafta_noms('Manhattan')"
   ]
  },
  {
   "cell_type": "code",
   "execution_count": 4,
   "metadata": {},
   "outputs": [
    {
     "data": {
      "text/html": [
       "<div>\n",
       "<style scoped>\n",
       "    .dataframe tbody tr th:only-of-type {\n",
       "        vertical-align: middle;\n",
       "    }\n",
       "\n",
       "    .dataframe tbody tr th {\n",
       "        vertical-align: top;\n",
       "    }\n",
       "\n",
       "    .dataframe thead th {\n",
       "        text-align: right;\n",
       "    }\n",
       "</style>\n",
       "<table border=\"1\" class=\"dataframe\">\n",
       "  <thead>\n",
       "    <tr style=\"text-align: right;\">\n",
       "      <th></th>\n",
       "      <th>year</th>\n",
       "      <th>category</th>\n",
       "      <th>nominee</th>\n",
       "      <th>workers</th>\n",
       "      <th>winner</th>\n",
       "    </tr>\n",
       "  </thead>\n",
       "  <tbody>\n",
       "    <tr>\n",
       "      <th>0</th>\n",
       "      <td>1949</td>\n",
       "      <td>Film | British Film in 1949</td>\n",
       "      <td>The Fallen Idol</td>\n",
       "      <td>NaN</td>\n",
       "      <td>True</td>\n",
       "    </tr>\n",
       "    <tr>\n",
       "      <th>1</th>\n",
       "      <td>1949</td>\n",
       "      <td>Film | British Film in 1949</td>\n",
       "      <td>Hamlet</td>\n",
       "      <td>NaN</td>\n",
       "      <td>False</td>\n",
       "    </tr>\n",
       "    <tr>\n",
       "      <th>2</th>\n",
       "      <td>1949</td>\n",
       "      <td>Film | British Film in 1949</td>\n",
       "      <td>Oliver Twist</td>\n",
       "      <td>NaN</td>\n",
       "      <td>False</td>\n",
       "    </tr>\n",
       "    <tr>\n",
       "      <th>3</th>\n",
       "      <td>1949</td>\n",
       "      <td>Film | British Film in 1949</td>\n",
       "      <td>Once A Jolly Swagman</td>\n",
       "      <td>NaN</td>\n",
       "      <td>False</td>\n",
       "    </tr>\n",
       "    <tr>\n",
       "      <th>4</th>\n",
       "      <td>1949</td>\n",
       "      <td>Film | British Film in 1949</td>\n",
       "      <td>The Red Shoes</td>\n",
       "      <td>NaN</td>\n",
       "      <td>False</td>\n",
       "    </tr>\n",
       "    <tr>\n",
       "      <th>...</th>\n",
       "      <td>...</td>\n",
       "      <td>...</td>\n",
       "      <td>...</td>\n",
       "      <td>...</td>\n",
       "      <td>...</td>\n",
       "    </tr>\n",
       "    <tr>\n",
       "      <th>4171</th>\n",
       "      <td>2020</td>\n",
       "      <td>Film | Supporting Actress in 2020</td>\n",
       "      <td>Marriage Story</td>\n",
       "      <td>Laura Dern</td>\n",
       "      <td>True</td>\n",
       "    </tr>\n",
       "    <tr>\n",
       "      <th>4172</th>\n",
       "      <td>2020</td>\n",
       "      <td>Film | Supporting Actress in 2020</td>\n",
       "      <td>Jojo Rabbit</td>\n",
       "      <td>Scarlett Johansson</td>\n",
       "      <td>False</td>\n",
       "    </tr>\n",
       "    <tr>\n",
       "      <th>4173</th>\n",
       "      <td>2020</td>\n",
       "      <td>Film | Supporting Actress in 2020</td>\n",
       "      <td>Little Women</td>\n",
       "      <td>Florence Pugh</td>\n",
       "      <td>False</td>\n",
       "    </tr>\n",
       "    <tr>\n",
       "      <th>4174</th>\n",
       "      <td>2020</td>\n",
       "      <td>Film | Supporting Actress in 2020</td>\n",
       "      <td>Bombshell</td>\n",
       "      <td>Margot Robbie</td>\n",
       "      <td>False</td>\n",
       "    </tr>\n",
       "    <tr>\n",
       "      <th>4175</th>\n",
       "      <td>2020</td>\n",
       "      <td>Film | Supporting Actress in 2020</td>\n",
       "      <td>Once Upon a Time.. in Hollywood</td>\n",
       "      <td>Margot Robbie</td>\n",
       "      <td>False</td>\n",
       "    </tr>\n",
       "  </tbody>\n",
       "</table>\n",
       "<p>4176 rows × 5 columns</p>\n",
       "</div>"
      ],
      "text/plain": [
       "      year                           category  \\\n",
       "0     1949        Film | British Film in 1949   \n",
       "1     1949        Film | British Film in 1949   \n",
       "2     1949        Film | British Film in 1949   \n",
       "3     1949        Film | British Film in 1949   \n",
       "4     1949        Film | British Film in 1949   \n",
       "...    ...                                ...   \n",
       "4171  2020  Film | Supporting Actress in 2020   \n",
       "4172  2020  Film | Supporting Actress in 2020   \n",
       "4173  2020  Film | Supporting Actress in 2020   \n",
       "4174  2020  Film | Supporting Actress in 2020   \n",
       "4175  2020  Film | Supporting Actress in 2020   \n",
       "\n",
       "                              nominee             workers  winner  \n",
       "0                     The Fallen Idol                 NaN    True  \n",
       "1                              Hamlet                 NaN   False  \n",
       "2                        Oliver Twist                 NaN   False  \n",
       "3                Once A Jolly Swagman                 NaN   False  \n",
       "4                       The Red Shoes                 NaN   False  \n",
       "...                               ...                 ...     ...  \n",
       "4171                   Marriage Story          Laura Dern    True  \n",
       "4172                      Jojo Rabbit  Scarlett Johansson   False  \n",
       "4173                     Little Women       Florence Pugh   False  \n",
       "4174                        Bombshell       Margot Robbie   False  \n",
       "4175  Once Upon a Time.. in Hollywood       Margot Robbie   False  \n",
       "\n",
       "[4176 rows x 5 columns]"
      ]
     },
     "execution_count": 4,
     "metadata": {},
     "output_type": "execute_result"
    }
   ],
   "source": [
    "baftas"
   ]
  },
  {
   "cell_type": "code",
   "execution_count": 5,
   "metadata": {},
   "outputs": [],
   "source": [
    "globes = pd.read_csv('globes.csv')"
   ]
  },
  {
   "cell_type": "code",
   "execution_count": 6,
   "metadata": {},
   "outputs": [],
   "source": [
    "def rename(name):\n",
    "    if str(name)[-5:] == ', The':\n",
    "        renamed = 'The ' + str(name)[:-5]\n",
    "        return renamed\n",
    "    if str(name)[-3:] == ', A':\n",
    "        renamed = 'A ' + str(name)[:-5]\n",
    "        return renamed\n",
    "    else: return name\n",
    "    \n",
    "    \n",
    "globes.film = globes.film.apply(lambda x: rename(x))"
   ]
  },
  {
   "cell_type": "code",
   "execution_count": 7,
   "metadata": {},
   "outputs": [
    {
     "name": "stdout",
     "output_type": "stream",
     "text": [
      "Nominated: 4   Won: 3\n"
     ]
    }
   ],
   "source": [
    "def globes_noms(name):\n",
    "    #includes actor awards in film results\n",
    "    nom = len(globes.query('nominee == @name')) + len(globes.query('film == @name'))\n",
    "    won = len(globes.query('nominee == @name & win == True')) + len(globes.query('film == @name & win == True'))\n",
    "    print('Nominated: %s   Won: %s' % (nom, won))\n",
    "\n",
    "globes_noms('Apocalypse Now')"
   ]
  },
  {
   "cell_type": "code",
   "execution_count": 8,
   "metadata": {},
   "outputs": [
    {
     "data": {
      "text/html": [
       "<div>\n",
       "<style scoped>\n",
       "    .dataframe tbody tr th:only-of-type {\n",
       "        vertical-align: middle;\n",
       "    }\n",
       "\n",
       "    .dataframe tbody tr th {\n",
       "        vertical-align: top;\n",
       "    }\n",
       "\n",
       "    .dataframe thead th {\n",
       "        text-align: right;\n",
       "    }\n",
       "</style>\n",
       "<table border=\"1\" class=\"dataframe\">\n",
       "  <thead>\n",
       "    <tr style=\"text-align: right;\">\n",
       "      <th></th>\n",
       "      <th>year_film</th>\n",
       "      <th>year_award</th>\n",
       "      <th>ceremony</th>\n",
       "      <th>category</th>\n",
       "      <th>nominee</th>\n",
       "      <th>film</th>\n",
       "      <th>win</th>\n",
       "    </tr>\n",
       "  </thead>\n",
       "  <tbody>\n",
       "    <tr>\n",
       "      <th>0</th>\n",
       "      <td>1943</td>\n",
       "      <td>1944</td>\n",
       "      <td>1</td>\n",
       "      <td>Best Performance by an Actress in a Supporting...</td>\n",
       "      <td>Katina Paxinou</td>\n",
       "      <td>For Whom The Bell Tolls</td>\n",
       "      <td>True</td>\n",
       "    </tr>\n",
       "    <tr>\n",
       "      <th>1</th>\n",
       "      <td>1943</td>\n",
       "      <td>1944</td>\n",
       "      <td>1</td>\n",
       "      <td>Best Performance by an Actor in a Supporting R...</td>\n",
       "      <td>Akim Tamiroff</td>\n",
       "      <td>For Whom The Bell Tolls</td>\n",
       "      <td>True</td>\n",
       "    </tr>\n",
       "    <tr>\n",
       "      <th>2</th>\n",
       "      <td>1943</td>\n",
       "      <td>1944</td>\n",
       "      <td>1</td>\n",
       "      <td>Best Director - Motion Picture</td>\n",
       "      <td>Henry King</td>\n",
       "      <td>The Song Of Bernadette</td>\n",
       "      <td>True</td>\n",
       "    </tr>\n",
       "    <tr>\n",
       "      <th>3</th>\n",
       "      <td>1943</td>\n",
       "      <td>1944</td>\n",
       "      <td>1</td>\n",
       "      <td>Picture</td>\n",
       "      <td>The Song Of Bernadette</td>\n",
       "      <td>NaN</td>\n",
       "      <td>True</td>\n",
       "    </tr>\n",
       "    <tr>\n",
       "      <th>4</th>\n",
       "      <td>1943</td>\n",
       "      <td>1944</td>\n",
       "      <td>1</td>\n",
       "      <td>Actress In A Leading Role</td>\n",
       "      <td>Jennifer Jones</td>\n",
       "      <td>The Song Of Bernadette</td>\n",
       "      <td>True</td>\n",
       "    </tr>\n",
       "    <tr>\n",
       "      <th>...</th>\n",
       "      <td>...</td>\n",
       "      <td>...</td>\n",
       "      <td>...</td>\n",
       "      <td>...</td>\n",
       "      <td>...</td>\n",
       "      <td>...</td>\n",
       "      <td>...</td>\n",
       "    </tr>\n",
       "    <tr>\n",
       "      <th>7986</th>\n",
       "      <td>2019</td>\n",
       "      <td>2020</td>\n",
       "      <td>77</td>\n",
       "      <td>Best Performance by an Actor in a Supporting R...</td>\n",
       "      <td>Kieran Culkin</td>\n",
       "      <td>Succession</td>\n",
       "      <td>False</td>\n",
       "    </tr>\n",
       "    <tr>\n",
       "      <th>7987</th>\n",
       "      <td>2019</td>\n",
       "      <td>2020</td>\n",
       "      <td>77</td>\n",
       "      <td>Best Performance by an Actor in a Supporting R...</td>\n",
       "      <td>Andrew Scott</td>\n",
       "      <td>Fleabag</td>\n",
       "      <td>False</td>\n",
       "    </tr>\n",
       "    <tr>\n",
       "      <th>7988</th>\n",
       "      <td>2019</td>\n",
       "      <td>2020</td>\n",
       "      <td>77</td>\n",
       "      <td>Best Performance by an Actor in a Supporting R...</td>\n",
       "      <td>Henry Winkler</td>\n",
       "      <td>Barry</td>\n",
       "      <td>False</td>\n",
       "    </tr>\n",
       "    <tr>\n",
       "      <th>7989</th>\n",
       "      <td>2019</td>\n",
       "      <td>2020</td>\n",
       "      <td>77</td>\n",
       "      <td>Cecil B. deMille Award</td>\n",
       "      <td>Tom Hanks</td>\n",
       "      <td>NaN</td>\n",
       "      <td>False</td>\n",
       "    </tr>\n",
       "    <tr>\n",
       "      <th>7990</th>\n",
       "      <td>2019</td>\n",
       "      <td>2020</td>\n",
       "      <td>77</td>\n",
       "      <td>Carol Burnett Award</td>\n",
       "      <td>Ellen DeGeneres</td>\n",
       "      <td>NaN</td>\n",
       "      <td>False</td>\n",
       "    </tr>\n",
       "  </tbody>\n",
       "</table>\n",
       "<p>7991 rows × 7 columns</p>\n",
       "</div>"
      ],
      "text/plain": [
       "      year_film  year_award  ceremony  \\\n",
       "0          1943        1944         1   \n",
       "1          1943        1944         1   \n",
       "2          1943        1944         1   \n",
       "3          1943        1944         1   \n",
       "4          1943        1944         1   \n",
       "...         ...         ...       ...   \n",
       "7986       2019        2020        77   \n",
       "7987       2019        2020        77   \n",
       "7988       2019        2020        77   \n",
       "7989       2019        2020        77   \n",
       "7990       2019        2020        77   \n",
       "\n",
       "                                               category  \\\n",
       "0     Best Performance by an Actress in a Supporting...   \n",
       "1     Best Performance by an Actor in a Supporting R...   \n",
       "2                        Best Director - Motion Picture   \n",
       "3                                               Picture   \n",
       "4                             Actress In A Leading Role   \n",
       "...                                                 ...   \n",
       "7986  Best Performance by an Actor in a Supporting R...   \n",
       "7987  Best Performance by an Actor in a Supporting R...   \n",
       "7988  Best Performance by an Actor in a Supporting R...   \n",
       "7989                             Cecil B. deMille Award   \n",
       "7990                                Carol Burnett Award   \n",
       "\n",
       "                     nominee                     film    win  \n",
       "0             Katina Paxinou  For Whom The Bell Tolls   True  \n",
       "1              Akim Tamiroff  For Whom The Bell Tolls   True  \n",
       "2                 Henry King   The Song Of Bernadette   True  \n",
       "3     The Song Of Bernadette                      NaN   True  \n",
       "4             Jennifer Jones   The Song Of Bernadette   True  \n",
       "...                      ...                      ...    ...  \n",
       "7986           Kieran Culkin               Succession  False  \n",
       "7987            Andrew Scott                  Fleabag  False  \n",
       "7988           Henry Winkler                    Barry  False  \n",
       "7989               Tom Hanks                      NaN  False  \n",
       "7990         Ellen DeGeneres                      NaN  False  \n",
       "\n",
       "[7991 rows x 7 columns]"
      ]
     },
     "execution_count": 8,
     "metadata": {},
     "output_type": "execute_result"
    }
   ],
   "source": [
    "globes.to_csv('globes_.csv')\n",
    "globes"
   ]
  },
  {
   "cell_type": "code",
   "execution_count": 9,
   "metadata": {},
   "outputs": [],
   "source": [
    "mask = oscars.entity.str.len() < 80"
   ]
  },
  {
   "cell_type": "code",
   "execution_count": 10,
   "metadata": {},
   "outputs": [],
   "source": [
    "oscars = oscars.loc[mask]"
   ]
  },
  {
   "cell_type": "code",
   "execution_count": 11,
   "metadata": {},
   "outputs": [
    {
     "data": {
      "text/html": [
       "<div>\n",
       "<style scoped>\n",
       "    .dataframe tbody tr th:only-of-type {\n",
       "        vertical-align: middle;\n",
       "    }\n",
       "\n",
       "    .dataframe tbody tr th {\n",
       "        vertical-align: top;\n",
       "    }\n",
       "\n",
       "    .dataframe thead th {\n",
       "        text-align: right;\n",
       "    }\n",
       "</style>\n",
       "<table border=\"1\" class=\"dataframe\">\n",
       "  <thead>\n",
       "    <tr style=\"text-align: right;\">\n",
       "      <th></th>\n",
       "      <th>year</th>\n",
       "      <th>category</th>\n",
       "      <th>winner</th>\n",
       "      <th>entity</th>\n",
       "    </tr>\n",
       "  </thead>\n",
       "  <tbody>\n",
       "    <tr>\n",
       "      <th>11038</th>\n",
       "      <td>2017</td>\n",
       "      <td>WRITING (Original Screenplay)</td>\n",
       "      <td>True</td>\n",
       "      <td>Get Out</td>\n",
       "    </tr>\n",
       "    <tr>\n",
       "      <th>11039</th>\n",
       "      <td>2017</td>\n",
       "      <td>WRITING (Original Screenplay)</td>\n",
       "      <td>False</td>\n",
       "      <td>Lady Bird</td>\n",
       "    </tr>\n",
       "    <tr>\n",
       "      <th>11040</th>\n",
       "      <td>2017</td>\n",
       "      <td>WRITING (Original Screenplay)</td>\n",
       "      <td>False</td>\n",
       "      <td>The Shape of Water</td>\n",
       "    </tr>\n",
       "    <tr>\n",
       "      <th>11041</th>\n",
       "      <td>2017</td>\n",
       "      <td>WRITING (Original Screenplay)</td>\n",
       "      <td>False</td>\n",
       "      <td>Three Billboards Outside Ebbing, Missouri</td>\n",
       "    </tr>\n",
       "    <tr>\n",
       "      <th>11047</th>\n",
       "      <td>2017</td>\n",
       "      <td>GORDON E. SAWYER AWARD</td>\n",
       "      <td>True</td>\n",
       "      <td>Jonathan Erland</td>\n",
       "    </tr>\n",
       "  </tbody>\n",
       "</table>\n",
       "</div>"
      ],
      "text/plain": [
       "       year                       category  winner  \\\n",
       "11038  2017  WRITING (Original Screenplay)    True   \n",
       "11039  2017  WRITING (Original Screenplay)   False   \n",
       "11040  2017  WRITING (Original Screenplay)   False   \n",
       "11041  2017  WRITING (Original Screenplay)   False   \n",
       "11047  2017         GORDON E. SAWYER AWARD    True   \n",
       "\n",
       "                                          entity  \n",
       "11038                                    Get Out  \n",
       "11039                                  Lady Bird  \n",
       "11040                         The Shape of Water  \n",
       "11041  Three Billboards Outside Ebbing, Missouri  \n",
       "11047                            Jonathan Erland  "
      ]
     },
     "execution_count": 11,
     "metadata": {},
     "output_type": "execute_result"
    }
   ],
   "source": [
    "oscars.tail()"
   ]
  },
  {
   "cell_type": "code",
   "execution_count": 12,
   "metadata": {},
   "outputs": [
    {
     "data": {
      "text/html": [
       "<div>\n",
       "<style scoped>\n",
       "    .dataframe tbody tr th:only-of-type {\n",
       "        vertical-align: middle;\n",
       "    }\n",
       "\n",
       "    .dataframe tbody tr th {\n",
       "        vertical-align: top;\n",
       "    }\n",
       "\n",
       "    .dataframe thead th {\n",
       "        text-align: right;\n",
       "    }\n",
       "</style>\n",
       "<table border=\"1\" class=\"dataframe\">\n",
       "  <thead>\n",
       "    <tr style=\"text-align: right;\">\n",
       "      <th></th>\n",
       "      <th>year</th>\n",
       "      <th>category</th>\n",
       "      <th>winner</th>\n",
       "      <th>entity</th>\n",
       "    </tr>\n",
       "  </thead>\n",
       "  <tbody>\n",
       "    <tr>\n",
       "      <th>3</th>\n",
       "      <td>1927</td>\n",
       "      <td>ACTRESS</td>\n",
       "      <td>True</td>\n",
       "      <td>Janet Gaynor</td>\n",
       "    </tr>\n",
       "    <tr>\n",
       "      <th>564</th>\n",
       "      <td>1937</td>\n",
       "      <td>ACTRESS</td>\n",
       "      <td>False</td>\n",
       "      <td>Janet Gaynor</td>\n",
       "    </tr>\n",
       "  </tbody>\n",
       "</table>\n",
       "</div>"
      ],
      "text/plain": [
       "     year category  winner        entity\n",
       "3    1927  ACTRESS    True  Janet Gaynor\n",
       "564  1937  ACTRESS   False  Janet Gaynor"
      ]
     },
     "execution_count": 12,
     "metadata": {},
     "output_type": "execute_result"
    }
   ],
   "source": [
    "oscars.to_csv('oscars_.csv')\n",
    "oscars.query('entity == \"Janet Gaynor\"')"
   ]
  },
  {
   "cell_type": "code",
   "execution_count": 13,
   "metadata": {},
   "outputs": [
    {
     "name": "stdout",
     "output_type": "stream",
     "text": [
      "Nominated: 7   Won: 1\n"
     ]
    }
   ],
   "source": [
    "def oscar_noms(name):\n",
    "    #does not include actor awards in film results\n",
    "    nom = len(oscars.query('entity == @name'))\n",
    "    won = len(oscars.query('entity == @name & winner == True'))\n",
    "    print('Nominated: %s   Won: %s' % (nom, won))\n",
    "\n",
    "oscar_noms('Robert Duvall')"
   ]
  },
  {
   "cell_type": "code",
   "execution_count": 14,
   "metadata": {},
   "outputs": [
    {
     "data": {
      "text/html": [
       "<div>\n",
       "<style scoped>\n",
       "    .dataframe tbody tr th:only-of-type {\n",
       "        vertical-align: middle;\n",
       "    }\n",
       "\n",
       "    .dataframe tbody tr th {\n",
       "        vertical-align: top;\n",
       "    }\n",
       "\n",
       "    .dataframe thead th {\n",
       "        text-align: right;\n",
       "    }\n",
       "</style>\n",
       "<table border=\"1\" class=\"dataframe\">\n",
       "  <thead>\n",
       "    <tr style=\"text-align: right;\">\n",
       "      <th></th>\n",
       "      <th>year</th>\n",
       "      <th>category</th>\n",
       "      <th>winner</th>\n",
       "      <th>entity</th>\n",
       "    </tr>\n",
       "  </thead>\n",
       "  <tbody>\n",
       "    <tr>\n",
       "      <th>5466</th>\n",
       "      <td>1974</td>\n",
       "      <td>ART DIRECTION</td>\n",
       "      <td>False</td>\n",
       "      <td>Chinatown</td>\n",
       "    </tr>\n",
       "    <tr>\n",
       "      <th>5471</th>\n",
       "      <td>1974</td>\n",
       "      <td>CINEMATOGRAPHY</td>\n",
       "      <td>False</td>\n",
       "      <td>Chinatown</td>\n",
       "    </tr>\n",
       "    <tr>\n",
       "      <th>5476</th>\n",
       "      <td>1974</td>\n",
       "      <td>COSTUME DESIGN</td>\n",
       "      <td>False</td>\n",
       "      <td>Chinatown</td>\n",
       "    </tr>\n",
       "    <tr>\n",
       "      <th>5481</th>\n",
       "      <td>1974</td>\n",
       "      <td>DIRECTING</td>\n",
       "      <td>False</td>\n",
       "      <td>Chinatown</td>\n",
       "    </tr>\n",
       "    <tr>\n",
       "      <th>5497</th>\n",
       "      <td>1974</td>\n",
       "      <td>FILM EDITING</td>\n",
       "      <td>False</td>\n",
       "      <td>Chinatown</td>\n",
       "    </tr>\n",
       "    <tr>\n",
       "      <th>5506</th>\n",
       "      <td>1974</td>\n",
       "      <td>MUSIC (Original Dramatic Score)</td>\n",
       "      <td>False</td>\n",
       "      <td>Chinatown</td>\n",
       "    </tr>\n",
       "    <tr>\n",
       "      <th>5519</th>\n",
       "      <td>1974</td>\n",
       "      <td>BEST PICTURE</td>\n",
       "      <td>False</td>\n",
       "      <td>Chinatown</td>\n",
       "    </tr>\n",
       "    <tr>\n",
       "      <th>5534</th>\n",
       "      <td>1974</td>\n",
       "      <td>SOUND</td>\n",
       "      <td>False</td>\n",
       "      <td>Chinatown</td>\n",
       "    </tr>\n",
       "    <tr>\n",
       "      <th>5540</th>\n",
       "      <td>1974</td>\n",
       "      <td>WRITING (Original Screenplay)</td>\n",
       "      <td>True</td>\n",
       "      <td>Chinatown</td>\n",
       "    </tr>\n",
       "  </tbody>\n",
       "</table>\n",
       "</div>"
      ],
      "text/plain": [
       "      year                         category  winner     entity\n",
       "5466  1974                    ART DIRECTION   False  Chinatown\n",
       "5471  1974                   CINEMATOGRAPHY   False  Chinatown\n",
       "5476  1974                   COSTUME DESIGN   False  Chinatown\n",
       "5481  1974                        DIRECTING   False  Chinatown\n",
       "5497  1974                     FILM EDITING   False  Chinatown\n",
       "5506  1974  MUSIC (Original Dramatic Score)   False  Chinatown\n",
       "5519  1974                     BEST PICTURE   False  Chinatown\n",
       "5534  1974                            SOUND   False  Chinatown\n",
       "5540  1974    WRITING (Original Screenplay)    True  Chinatown"
      ]
     },
     "execution_count": 14,
     "metadata": {},
     "output_type": "execute_result"
    }
   ],
   "source": [
    "oscars.query('entity == \"Chinatown\"')"
   ]
  },
  {
   "cell_type": "code",
   "execution_count": 15,
   "metadata": {},
   "outputs": [],
   "source": [
    "def osc_nom(name):\n",
    "    nom = len(oscars.query('entity == @name'))\n",
    "    return nom\n",
    "\n",
    "def osc_won(name):\n",
    "    won = len(oscars.query('entity == @name & winner == True'))\n",
    "    return won\n"
   ]
  },
  {
   "cell_type": "code",
   "execution_count": 16,
   "metadata": {},
   "outputs": [],
   "source": [
    "names = pd.Series(oscars.entity.unique())"
   ]
  },
  {
   "cell_type": "code",
   "execution_count": 20,
   "metadata": {},
   "outputs": [],
   "source": [
    "noms = names.apply(lambda x: osc_nom(x))\n",
    "wins = names.apply(lambda x: osc_won(x))"
   ]
  },
  {
   "cell_type": "code",
   "execution_count": null,
   "metadata": {},
   "outputs": [],
   "source": []
  },
  {
   "cell_type": "code",
   "execution_count": 21,
   "metadata": {},
   "outputs": [],
   "source": [
    "df = pd.DataFrame([names, noms, wins])"
   ]
  },
  {
   "cell_type": "code",
   "execution_count": null,
   "metadata": {},
   "outputs": [],
   "source": [
    "df = df.T"
   ]
  },
  {
   "cell_type": "code",
   "execution_count": null,
   "metadata": {},
   "outputs": [],
   "source": [
    "df.columns = ['nominations', 'wins']"
   ]
  },
  {
   "cell_type": "code",
   "execution_count": null,
   "metadata": {},
   "outputs": [],
   "source": [
    "df = df.set_index(['name'])"
   ]
  },
  {
   "cell_type": "code",
   "execution_count": null,
   "metadata": {},
   "outputs": [],
   "source": [
    "df"
   ]
  },
  {
   "cell_type": "code",
   "execution_count": null,
   "metadata": {},
   "outputs": [],
   "source": [
    "df.loc['Al Pacino']"
   ]
  },
  {
   "cell_type": "code",
   "execution_count": null,
   "metadata": {},
   "outputs": [],
   "source": [
    "df.to_csv('oscar_noms_1927-2017.csv')"
   ]
  },
  {
   "cell_type": "code",
   "execution_count": null,
   "metadata": {},
   "outputs": [],
   "source": [
    "os = pd.read_csv('oscar_noms_1927-2017.csv')"
   ]
  },
  {
   "cell_type": "code",
   "execution_count": null,
   "metadata": {},
   "outputs": [],
   "source": [
    "os"
   ]
  },
  {
   "cell_type": "code",
   "execution_count": null,
   "metadata": {},
   "outputs": [],
   "source": [
    "bn = pd.Series(baftas.nominee.unique())\n",
    "bw = pd.Series(baftas.workers.unique())"
   ]
  },
  {
   "cell_type": "code",
   "execution_count": null,
   "metadata": {},
   "outputs": [],
   "source": [
    "bc = bn.append(bw)"
   ]
  },
  {
   "cell_type": "code",
   "execution_count": null,
   "metadata": {},
   "outputs": [],
   "source": [
    "bc2 = bc.reindex()"
   ]
  },
  {
   "cell_type": "code",
   "execution_count": null,
   "metadata": {},
   "outputs": [],
   "source": [
    "\n",
    "bc2.index = pd.RangeIndex(0, 4991)\n",
    "bc2"
   ]
  },
  {
   "cell_type": "code",
   "execution_count": null,
   "metadata": {},
   "outputs": [],
   "source": [
    "def bafta_nom(name):\n",
    "    nom = len(baftas.query('nominee == @name')) + len(baftas.query('workers == @name'))\n",
    "    return nom\n",
    "    \n",
    "def bafta_won(name):\n",
    "    won = len(baftas.query('nominee == @name & winner == True')) + len(baftas.query('workers == @name & winner == True'))\n",
    "    return won\n"
   ]
  },
  {
   "cell_type": "code",
   "execution_count": null,
   "metadata": {},
   "outputs": [],
   "source": [
    "bnom = bc2.apply(lambda x: bafta_nom(x))"
   ]
  },
  {
   "cell_type": "code",
   "execution_count": null,
   "metadata": {},
   "outputs": [],
   "source": [
    "bwon = bc2.apply(lambda x: bafta_won(x))"
   ]
  },
  {
   "cell_type": "code",
   "execution_count": null,
   "metadata": {},
   "outputs": [],
   "source": [
    "bnom.index=pd.RangeIndex(0,4991)\n",
    "bnom"
   ]
  },
  {
   "cell_type": "code",
   "execution_count": null,
   "metadata": {},
   "outputs": [],
   "source": [
    "baft = pd.DataFrame([bc2, bnom, bwon])"
   ]
  },
  {
   "cell_type": "code",
   "execution_count": null,
   "metadata": {},
   "outputs": [],
   "source": [
    "baft = baft.T\n"
   ]
  },
  {
   "cell_type": "code",
   "execution_count": null,
   "metadata": {},
   "outputs": [],
   "source": [
    "baft.columns = ['name', 'nominations', 'wins']\n",
    "baft"
   ]
  },
  {
   "cell_type": "code",
   "execution_count": null,
   "metadata": {},
   "outputs": [],
   "source": [
    "\n",
    "baft"
   ]
  },
  {
   "cell_type": "code",
   "execution_count": null,
   "metadata": {},
   "outputs": [],
   "source": [
    "baft.loc['Marlon Brando']"
   ]
  },
  {
   "cell_type": "code",
   "execution_count": null,
   "metadata": {},
   "outputs": [],
   "source": [
    "baft.to_csv('bafta_noms_1949-2020.csv')"
   ]
  },
  {
   "cell_type": "code",
   "execution_count": null,
   "metadata": {},
   "outputs": [],
   "source": [
    "def globes_nom(name):\n",
    "    nom = len(globes.query('nominee == @name')) + len(globes.query('film == @name'))\n",
    "    return nom\n",
    "    \n",
    "def globes_won(name):\n",
    "    won = len(globes.query('nominee == @name & win == True')) + len(globes.query('film == @name & win == True'))\n",
    "    return won\n",
    "\n",
    "glo = pd.Series(globes.nominee.unique()).append(pd.Series(globes.film.unique()))\n",
    "glo = glo.unique()\n",
    "glo = pd.Series(glo)\n",
    "glo"
   ]
  },
  {
   "cell_type": "code",
   "execution_count": null,
   "metadata": {},
   "outputs": [],
   "source": [
    "glo.index = pd.RangeIndex(0, 6250)"
   ]
  },
  {
   "cell_type": "code",
   "execution_count": null,
   "metadata": {},
   "outputs": [],
   "source": [
    "gnom = glo.apply(lambda x: globes_nom(x))\n",
    "gwon = glo.apply(lambda x: globes_won(x))"
   ]
  },
  {
   "cell_type": "code",
   "execution_count": null,
   "metadata": {},
   "outputs": [],
   "source": [
    "glonoms = pd.DataFrame([glo, gnom, gwon])"
   ]
  },
  {
   "cell_type": "code",
   "execution_count": null,
   "metadata": {},
   "outputs": [],
   "source": [
    "glonoms = glonoms.T"
   ]
  },
  {
   "cell_type": "code",
   "execution_count": null,
   "metadata": {},
   "outputs": [],
   "source": [
    "glonoms.columns = ['names', 'nominations', 'wins']"
   ]
  },
  {
   "cell_type": "code",
   "execution_count": null,
   "metadata": {},
   "outputs": [],
   "source": [
    "glonoms = glonoms.set_index('names')"
   ]
  },
  {
   "cell_type": "code",
   "execution_count": null,
   "metadata": {},
   "outputs": [],
   "source": [
    "glonoms"
   ]
  },
  {
   "cell_type": "code",
   "execution_count": null,
   "metadata": {},
   "outputs": [],
   "source": [
    "glonoms.to_csv('gglobe_noms_1944-2020.csv')"
   ]
  },
  {
   "cell_type": "code",
   "execution_count": null,
   "metadata": {},
   "outputs": [],
   "source": []
  },
  {
   "cell_type": "code",
   "execution_count": null,
   "metadata": {},
   "outputs": [],
   "source": []
  }
 ],
 "metadata": {
  "kernelspec": {
   "display_name": "Python 3",
   "language": "python",
   "name": "python3"
  },
  "language_info": {
   "codemirror_mode": {
    "name": "ipython",
    "version": 3
   },
   "file_extension": ".py",
   "mimetype": "text/x-python",
   "name": "python",
   "nbconvert_exporter": "python",
   "pygments_lexer": "ipython3",
   "version": "3.7.6"
  }
 },
 "nbformat": 4,
 "nbformat_minor": 4
}
