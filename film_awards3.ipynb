{
 "cells": [
  {
   "cell_type": "code",
   "execution_count": 10,
   "metadata": {},
   "outputs": [],
   "source": [
    "import numpy as np\n",
    "import pandas as pd\n",
    "oscars = pd.read_csv('oscar_noms_by_year.csv')\n",
    "baftas = pd.read_csv('bafta_noms_by_year.csv')\n",
    "globes = pd.read_csv('globe_noms_by_year.csv')"
   ]
  },
  {
   "cell_type": "code",
   "execution_count": null,
   "metadata": {},
   "outputs": [],
   "source": []
  },
  {
   "cell_type": "code",
   "execution_count": 22,
   "metadata": {},
   "outputs": [
    {
     "data": {
      "text/html": [
       "<div>\n",
       "<style scoped>\n",
       "    .dataframe tbody tr th:only-of-type {\n",
       "        vertical-align: middle;\n",
       "    }\n",
       "\n",
       "    .dataframe tbody tr th {\n",
       "        vertical-align: top;\n",
       "    }\n",
       "\n",
       "    .dataframe thead th {\n",
       "        text-align: right;\n",
       "    }\n",
       "</style>\n",
       "<table border=\"1\" class=\"dataframe\">\n",
       "  <thead>\n",
       "    <tr style=\"text-align: right;\">\n",
       "      <th></th>\n",
       "      <th>name</th>\n",
       "      <th>nom</th>\n",
       "      <th>won</th>\n",
       "    </tr>\n",
       "    <tr>\n",
       "      <th>name</th>\n",
       "      <th></th>\n",
       "      <th></th>\n",
       "      <th></th>\n",
       "    </tr>\n",
       "  </thead>\n",
       "  <tbody>\n",
       "    <tr>\n",
       "      <th>Richard Barthelmess</th>\n",
       "      <td>Richard Barthelmess</td>\n",
       "      <td>[1928]</td>\n",
       "      <td>[]</td>\n",
       "    </tr>\n",
       "    <tr>\n",
       "      <th>Emil Jannings</th>\n",
       "      <td>Emil Jannings</td>\n",
       "      <td>[1928]</td>\n",
       "      <td>[1928]</td>\n",
       "    </tr>\n",
       "    <tr>\n",
       "      <th>Louise Dresser</th>\n",
       "      <td>Louise Dresser</td>\n",
       "      <td>[1928]</td>\n",
       "      <td>[]</td>\n",
       "    </tr>\n",
       "    <tr>\n",
       "      <th>Janet Gaynor</th>\n",
       "      <td>Janet Gaynor</td>\n",
       "      <td>[1928 1938]</td>\n",
       "      <td>[1928]</td>\n",
       "    </tr>\n",
       "    <tr>\n",
       "      <th>Gloria Swanson</th>\n",
       "      <td>Gloria Swanson</td>\n",
       "      <td>[1928 1930 1951]</td>\n",
       "      <td>[]</td>\n",
       "    </tr>\n",
       "    <tr>\n",
       "      <th>...</th>\n",
       "      <td>...</td>\n",
       "      <td>...</td>\n",
       "      <td>...</td>\n",
       "    </tr>\n",
       "    <tr>\n",
       "      <th>Saria</th>\n",
       "      <td>Saria</td>\n",
       "      <td>[2020]</td>\n",
       "      <td>[]</td>\n",
       "    </tr>\n",
       "    <tr>\n",
       "      <th>A Sister</th>\n",
       "      <td>A Sister</td>\n",
       "      <td>[2020]</td>\n",
       "      <td>[]</td>\n",
       "    </tr>\n",
       "    <tr>\n",
       "      <th>Ad Astra</th>\n",
       "      <td>Ad Astra</td>\n",
       "      <td>[2020]</td>\n",
       "      <td>[]</td>\n",
       "    </tr>\n",
       "    <tr>\n",
       "      <th>Avengers: Endgame</th>\n",
       "      <td>Avengers: Endgame</td>\n",
       "      <td>[2020]</td>\n",
       "      <td>[]</td>\n",
       "    </tr>\n",
       "    <tr>\n",
       "      <th>Knives Out</th>\n",
       "      <td>Knives Out</td>\n",
       "      <td>[2020]</td>\n",
       "      <td>[]</td>\n",
       "    </tr>\n",
       "  </tbody>\n",
       "</table>\n",
       "<p>11493 rows × 3 columns</p>\n",
       "</div>"
      ],
      "text/plain": [
       "                                    name               nom     won\n",
       "name                                                              \n",
       "Richard Barthelmess  Richard Barthelmess            [1928]      []\n",
       "Emil Jannings              Emil Jannings            [1928]  [1928]\n",
       "Louise Dresser            Louise Dresser            [1928]      []\n",
       "Janet Gaynor                Janet Gaynor       [1928 1938]  [1928]\n",
       "Gloria Swanson            Gloria Swanson  [1928 1930 1951]      []\n",
       "...                                  ...               ...     ...\n",
       "Saria                              Saria            [2020]      []\n",
       "A Sister                        A Sister            [2020]      []\n",
       "Ad Astra                        Ad Astra            [2020]      []\n",
       "Avengers: Endgame      Avengers: Endgame            [2020]      []\n",
       "Knives Out                    Knives Out            [2020]      []\n",
       "\n",
       "[11493 rows x 3 columns]"
      ]
     },
     "execution_count": 22,
     "metadata": {},
     "output_type": "execute_result"
    }
   ],
   "source": [
    "oscars = oscars.rename(columns={'Unnamed: 0': 'name'})\n",
    "oscars.index = oscars.name\n",
    "oscars"
   ]
  },
  {
   "cell_type": "code",
   "execution_count": 23,
   "metadata": {},
   "outputs": [],
   "source": [
    "n = 'The Godfather'"
   ]
  },
  {
   "cell_type": "code",
   "execution_count": 25,
   "metadata": {},
   "outputs": [
    {
     "data": {
      "text/plain": [
       "'[1973 1973 1973 1973 1973 1973 1973 1973 1973 1973 1973]'"
      ]
     },
     "execution_count": 25,
     "metadata": {},
     "output_type": "execute_result"
    }
   ],
   "source": [
    "oscars.loc[n].nom"
   ]
  },
  {
   "cell_type": "code",
   "execution_count": 68,
   "metadata": {},
   "outputs": [],
   "source": [
    "def results(name, year=2020):\n",
    "    nom = won = 0\n",
    "    noms = oscars.loc[name].nom[1:-1].split()\n",
    "    wins= oscars.loc[name].won[1:-1].split()\n",
    "    for y in noms:     \n",
    "        if int(y) < year: nom += 1\n",
    "    for y in wins:\n",
    "        if int(y) < year: won += 1\n",
    "    return nom, won"
   ]
  },
  {
   "cell_type": "code",
   "execution_count": 77,
   "metadata": {},
   "outputs": [
    {
     "data": {
      "text/plain": [
       "(2, 1)"
      ]
     },
     "execution_count": 77,
     "metadata": {},
     "output_type": "execute_result"
    }
   ],
   "source": [
    "results(n, 1979)"
   ]
  },
  {
   "cell_type": "code",
   "execution_count": 131,
   "metadata": {},
   "outputs": [
    {
     "data": {
      "text/html": [
       "<div>\n",
       "<style scoped>\n",
       "    .dataframe tbody tr th:only-of-type {\n",
       "        vertical-align: middle;\n",
       "    }\n",
       "\n",
       "    .dataframe tbody tr th {\n",
       "        vertical-align: top;\n",
       "    }\n",
       "\n",
       "    .dataframe thead th {\n",
       "        text-align: right;\n",
       "    }\n",
       "</style>\n",
       "<table border=\"1\" class=\"dataframe\">\n",
       "  <thead>\n",
       "    <tr style=\"text-align: right;\">\n",
       "      <th></th>\n",
       "      <th>name</th>\n",
       "      <th>nom</th>\n",
       "      <th>won</th>\n",
       "    </tr>\n",
       "    <tr>\n",
       "      <th>name</th>\n",
       "      <th></th>\n",
       "      <th></th>\n",
       "      <th></th>\n",
       "    </tr>\n",
       "  </thead>\n",
       "  <tbody>\n",
       "    <tr>\n",
       "      <th>The Fallen Idol</th>\n",
       "      <td>The Fallen Idol</td>\n",
       "      <td>[1949 1949]</td>\n",
       "      <td>[1949]</td>\n",
       "    </tr>\n",
       "    <tr>\n",
       "      <th>Hamlet</th>\n",
       "      <td>Hamlet</td>\n",
       "      <td>[1949 1949 1992]</td>\n",
       "      <td>[1949]</td>\n",
       "    </tr>\n",
       "    <tr>\n",
       "      <th>Oliver Twist</th>\n",
       "      <td>Oliver Twist</td>\n",
       "      <td>[1949]</td>\n",
       "      <td>[]</td>\n",
       "    </tr>\n",
       "    <tr>\n",
       "      <th>The Fallen Idol</th>\n",
       "      <td>The Fallen Idol</td>\n",
       "      <td>[1949 1949]</td>\n",
       "      <td>[1949]</td>\n",
       "    </tr>\n",
       "    <tr>\n",
       "      <th>Hamlet</th>\n",
       "      <td>Hamlet</td>\n",
       "      <td>[1949 1949 1992]</td>\n",
       "      <td>[1949]</td>\n",
       "    </tr>\n",
       "    <tr>\n",
       "      <th>...</th>\n",
       "      <td>...</td>\n",
       "      <td>...</td>\n",
       "      <td>...</td>\n",
       "    </tr>\n",
       "    <tr>\n",
       "      <th>Ivan Busquets, Leandro Estebecorena, Stephane Grabli, Pablo Helman</th>\n",
       "      <td>Ivan Busquets, Leandro Estebecorena, Stephane ...</td>\n",
       "      <td>[2020]</td>\n",
       "      <td>[]</td>\n",
       "    </tr>\n",
       "    <tr>\n",
       "      <th>Andrew R. Jones, Robert Legato, Elliot Newman, Adam Valdez</th>\n",
       "      <td>Andrew R. Jones, Robert Legato, Elliot Newman,...</td>\n",
       "      <td>[2020]</td>\n",
       "      <td>[]</td>\n",
       "    </tr>\n",
       "    <tr>\n",
       "      <th>Roger Guyett, Paul Kavanagh, Neal Scanlan, Dominic Tuohy</th>\n",
       "      <td>Roger Guyett, Paul Kavanagh, Neal Scanlan, Dom...</td>\n",
       "      <td>[2020]</td>\n",
       "      <td>[]</td>\n",
       "    </tr>\n",
       "    <tr>\n",
       "      <th>A Beautiful Day in the Neighborhood</th>\n",
       "      <td>A Beautiful Day in the Neighborhood</td>\n",
       "      <td>[2020]</td>\n",
       "      <td>[]</td>\n",
       "    </tr>\n",
       "    <tr>\n",
       "      <th>Laura Dern</th>\n",
       "      <td>Laura Dern</td>\n",
       "      <td>[2020]</td>\n",
       "      <td>[2020]</td>\n",
       "    </tr>\n",
       "  </tbody>\n",
       "</table>\n",
       "<p>4479 rows × 3 columns</p>\n",
       "</div>"
      ],
      "text/plain": [
       "                                                                                                 name  \\\n",
       "name                                                                                                    \n",
       "The Fallen Idol                                                                       The Fallen Idol   \n",
       "Hamlet                                                                                         Hamlet   \n",
       "Oliver Twist                                                                             Oliver Twist   \n",
       "The Fallen Idol                                                                       The Fallen Idol   \n",
       "Hamlet                                                                                         Hamlet   \n",
       "...                                                                                               ...   \n",
       "Ivan Busquets, Leandro Estebecorena, Stephane G...  Ivan Busquets, Leandro Estebecorena, Stephane ...   \n",
       "Andrew R. Jones, Robert Legato, Elliot Newman, ...  Andrew R. Jones, Robert Legato, Elliot Newman,...   \n",
       "Roger Guyett, Paul Kavanagh, Neal Scanlan, Domi...  Roger Guyett, Paul Kavanagh, Neal Scanlan, Dom...   \n",
       "A Beautiful Day in the Neighborhood                               A Beautiful Day in the Neighborhood   \n",
       "Laura Dern                                                                                 Laura Dern   \n",
       "\n",
       "                                                                 nom     won  \n",
       "name                                                                          \n",
       "The Fallen Idol                                          [1949 1949]  [1949]  \n",
       "Hamlet                                              [1949 1949 1992]  [1949]  \n",
       "Oliver Twist                                                  [1949]      []  \n",
       "The Fallen Idol                                          [1949 1949]  [1949]  \n",
       "Hamlet                                              [1949 1949 1992]  [1949]  \n",
       "...                                                              ...     ...  \n",
       "Ivan Busquets, Leandro Estebecorena, Stephane G...            [2020]      []  \n",
       "Andrew R. Jones, Robert Legato, Elliot Newman, ...            [2020]      []  \n",
       "Roger Guyett, Paul Kavanagh, Neal Scanlan, Domi...            [2020]      []  \n",
       "A Beautiful Day in the Neighborhood                           [2020]      []  \n",
       "Laura Dern                                                    [2020]  [2020]  \n",
       "\n",
       "[4479 rows x 3 columns]"
      ]
     },
     "execution_count": 131,
     "metadata": {},
     "output_type": "execute_result"
    }
   ],
   "source": [
    "baftas = baftas.rename(columns={'Unnamed: 0': 'name'})\n",
    "baftas.index = baftas.name\n",
    "baftas"
   ]
  },
  {
   "cell_type": "code",
   "execution_count": 86,
   "metadata": {},
   "outputs": [
    {
     "data": {
      "text/plain": [
       "name                 Michael Caine\n",
       "nom     [1966 1967 1984 1984 1987]\n",
       "won                         [1984]\n",
       "Name: Michael Caine, dtype: object"
      ]
     },
     "execution_count": 86,
     "metadata": {},
     "output_type": "execute_result"
    }
   ],
   "source": [
    "baftas.loc['Michael Caine']"
   ]
  },
  {
   "cell_type": "code",
   "execution_count": 115,
   "metadata": {},
   "outputs": [],
   "source": [
    "def results(name, year=2020):\n",
    "    nom = won = 0\n",
    "    noms = baftas.loc[name].nom[1:-1].split()\n",
    "    wins = baftas.loc[name].won[1:-1].split()\n",
    "    for y in noms:     \n",
    "        if int(y) < year: nom += 1\n",
    "    for y in wins:\n",
    "        if int(y) < year: won += 1\n",
    "    return nom, won"
   ]
  },
  {
   "cell_type": "code",
   "execution_count": 128,
   "metadata": {},
   "outputs": [
    {
     "data": {
      "text/plain": [
       "(5, 1)"
      ]
     },
     "execution_count": 128,
     "metadata": {},
     "output_type": "execute_result"
    }
   ],
   "source": [
    "results('Michael Caine')"
   ]
  },
  {
   "cell_type": "code",
   "execution_count": null,
   "metadata": {},
   "outputs": [],
   "source": []
  },
  {
   "cell_type": "code",
   "execution_count": 92,
   "metadata": {},
   "outputs": [],
   "source": [
    "bf = pd.read_csv('baftas.csv')"
   ]
  },
  {
   "cell_type": "code",
   "execution_count": 119,
   "metadata": {},
   "outputs": [
    {
     "data": {
      "text/plain": [
       "array([1949, 1950, 1951, 1952, 1953, 1954, 1955, 1956, 1957, 1958, 1959,\n",
       "       1960, 1961, 1962, 1963, 1964, 1965, 1966, 1967, 1968, 1969, 1970,\n",
       "       1971, 1972, 1973, 1974, 1975, 1976, 1977, 1978, 1979, 1980, 1981,\n",
       "       1982, 1983, 1984, 1985, 1986, 1987, 1988, 1989, 1990, 1991, 1992,\n",
       "       1993, 1994, 1995, 1996, 2001, 2016, 2017, 2018, 2019, 2020])"
      ]
     },
     "execution_count": 119,
     "metadata": {},
     "output_type": "execute_result"
    }
   ],
   "source": [
    "bf.year.unique() #missing years in baftas results 1997-2000 and 2002-2015!"
   ]
  }
 ],
 "metadata": {
  "kernelspec": {
   "display_name": "Python 3",
   "language": "python",
   "name": "python3"
  },
  "language_info": {
   "codemirror_mode": {
    "name": "ipython",
    "version": 3
   },
   "file_extension": ".py",
   "mimetype": "text/x-python",
   "name": "python",
   "nbconvert_exporter": "python",
   "pygments_lexer": "ipython3",
   "version": "3.7.6"
  }
 },
 "nbformat": 4,
 "nbformat_minor": 4
}
