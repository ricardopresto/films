{
 "cells": [
  {
   "cell_type": "code",
   "execution_count": 101,
   "metadata": {},
   "outputs": [],
   "source": [
    "import numpy as np\n",
    "import pandas as pd\n",
    "\n",
    "oscars = pd.read_csv('oscar_noms_by_year.csv', index_col='name')\n",
    "baftas = pd.read_csv('bafta_noms_by_year.csv', index_col='name')\n",
    "globes = pd.read_csv('globe_noms_by_year.csv', index_col='name')\n",
    "\n",
    "def results(name, awards, year=2020):\n",
    "    if name in awards.index:\n",
    "        nom = won = 0\n",
    "        noms = awards.loc[name].nom[1:-1].split()\n",
    "        wins = awards.loc[name].won[1:-1].split()\n",
    "        for y in noms:     \n",
    "            if int(y) < year: nom += 1\n",
    "        for y in wins:\n",
    "            if int(y) < year: won += 1\n",
    "        return nom, won\n",
    "    else: return 0, 0\n",
    "\n",
    "def all_results(name, year=2020):\n",
    "    osc = results(name, oscars, year)\n",
    "    baf = results(name, baftas, year)\n",
    "    glo = results(name, globes, year)\n",
    "    return osc[0]+baf[0]+glo[0], osc[1]+baf[1]+glo[1]"
   ]
  },
  {
   "cell_type": "code",
   "execution_count": 108,
   "metadata": {},
   "outputs": [
    {
     "data": {
      "text/plain": [
       "(21, 8)"
      ]
     },
     "execution_count": 108,
     "metadata": {},
     "output_type": "execute_result"
    }
   ],
   "source": [
    "all_results('The Godfather')"
   ]
  },
  {
   "cell_type": "code",
   "execution_count": null,
   "metadata": {},
   "outputs": [],
   "source": [
    "# to include team awards for people (not neccessary for films)"
   ]
  },
  {
   "cell_type": "code",
   "execution_count": 129,
   "metadata": {},
   "outputs": [],
   "source": [
    "bill = oscars.filter(like='Billy Wilder', axis=0).nom.values"
   ]
  },
  {
   "cell_type": "code",
   "execution_count": 130,
   "metadata": {},
   "outputs": [
    {
     "data": {
      "text/plain": [
       "array(['[1940]', '[1942]', '[1942 1946]',\n",
       "       '[1945 1946 1951 1954 1955 1958 1960 1961 1988]', '[1945]',\n",
       "       '[1949]', '[1951]', '[1952]', '[1955]', '[1960 1961 1967]',\n",
       "       '[1961]'], dtype=object)"
      ]
     },
     "execution_count": 130,
     "metadata": {},
     "output_type": "execute_result"
    }
   ],
   "source": [
    "bill"
   ]
  },
  {
   "cell_type": "code",
   "execution_count": 131,
   "metadata": {},
   "outputs": [
    {
     "name": "stdout",
     "output_type": "stream",
     "text": [
      "['1940', '1942', '1942', '1946', '1945', '1946', '1951', '1954', '1955', '1958', '1960', '1961', '1988', '1945', '1949', '1951', '1952', '1955', '1960', '1961', '1967', '1961']\n"
     ]
    }
   ],
   "source": [
    "s = ''\n",
    "for n in bill:\n",
    "    s = s + n[1:-1] + ' '\n",
    "print(s.split())"
   ]
  },
  {
   "cell_type": "code",
   "execution_count": 132,
   "metadata": {},
   "outputs": [],
   "source": [
    "#so...\n",
    "\n",
    "def results_person(name, awards, year=2020):\n",
    "    if name in awards.index:\n",
    "        nom = won = 0\n",
    "        nom_entries = awards.filter(like=name, axis=0).nom.values\n",
    "        noms = ''\n",
    "        for entry in nom_entries:\n",
    "            noms = noms + entry[1:-1] + ' '\n",
    "        noms = noms.split()\n",
    "        win_entries = awards.filter(like=name, axis=0).won.values\n",
    "        wins = ''\n",
    "        for entry in win_entries:\n",
    "            wins = wins + entry[1:-1] + ' '\n",
    "        wins = wins.split()\n",
    "        for y in noms:     \n",
    "            if int(y) < year: nom += 1\n",
    "        for y in wins:\n",
    "            if int(y) < year: won += 1\n",
    "        return nom, won\n",
    "    else: return 0, 0\n",
    "    \n",
    "# NB. won't work with films because eg. 'Godfather' will include 'Godfather Part II'"
   ]
  },
  {
   "cell_type": "code",
   "execution_count": 146,
   "metadata": {},
   "outputs": [
    {
     "data": {
      "text/plain": [
       "(10, 3)"
      ]
     },
     "execution_count": 146,
     "metadata": {},
     "output_type": "execute_result"
    }
   ],
   "source": [
    "results_person('Francis Ford Coppola', globes)"
   ]
  },
  {
   "cell_type": "code",
   "execution_count": 134,
   "metadata": {},
   "outputs": [],
   "source": [
    "def all_results_person(name, year=2020):\n",
    "    osc = results_person(name, oscars, year)\n",
    "    baf = results_person(name, baftas, year)\n",
    "    glo = results_person(name, globes, year)\n",
    "    return osc[0]+baf[0]+glo[0], osc[1]+baf[1]+glo[1]"
   ]
  },
  {
   "cell_type": "code",
   "execution_count": 145,
   "metadata": {},
   "outputs": [
    {
     "data": {
      "text/plain": [
       "(27, 10)"
      ]
     },
     "execution_count": 145,
     "metadata": {},
     "output_type": "execute_result"
    }
   ],
   "source": [
    "all_results_person('Francis Ford Coppola')"
   ]
  },
  {
   "cell_type": "code",
   "execution_count": null,
   "metadata": {},
   "outputs": [],
   "source": []
  }
 ],
 "metadata": {
  "kernelspec": {
   "display_name": "Python 3",
   "language": "python",
   "name": "python3"
  },
  "language_info": {
   "codemirror_mode": {
    "name": "ipython",
    "version": 3
   },
   "file_extension": ".py",
   "mimetype": "text/x-python",
   "name": "python",
   "nbconvert_exporter": "python",
   "pygments_lexer": "ipython3",
   "version": "3.7.6"
  }
 },
 "nbformat": 4,
 "nbformat_minor": 4
}
