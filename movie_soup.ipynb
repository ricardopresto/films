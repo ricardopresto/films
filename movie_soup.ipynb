{
 "cells": [
  {
   "cell_type": "code",
   "execution_count": 108,
   "metadata": {},
   "outputs": [],
   "source": [
    "from bs4 import BeautifulSoup\n",
    "import requests"
   ]
  },
  {
   "cell_type": "code",
   "execution_count": 112,
   "metadata": {},
   "outputs": [],
   "source": [
    "file = requests.get('https://en.wikipedia.org/wiki/The_Godfather')\n",
    "soup = BeautifulSoup(file.text, 'html.parser')\n"
   ]
  },
  {
   "cell_type": "code",
   "execution_count": 113,
   "metadata": {},
   "outputs": [],
   "source": [
    "info = soup.find(class_='infobox vevent')"
   ]
  },
  {
   "cell_type": "code",
   "execution_count": 127,
   "metadata": {},
   "outputs": [
    {
     "name": "stdout",
     "output_type": "stream",
     "text": [
      "['Albert S. Ruddy']\n"
     ]
    }
   ],
   "source": [
    "s = info.find('th', string='Produced by').parent.stripped_strings #producer\n",
    "print(list(s)[1:])"
   ]
  },
  {
   "cell_type": "code",
   "execution_count": 129,
   "metadata": {},
   "outputs": [
    {
     "name": "stdout",
     "output_type": "stream",
     "text": [
      "['Francis Ford Coppola']\n"
     ]
    }
   ],
   "source": [
    "s = info.find('th', string='Directed by').parent.stripped_strings #director\n",
    "print(list(s)[1:])"
   ]
  },
  {
   "cell_type": "code",
   "execution_count": 130,
   "metadata": {},
   "outputs": [],
   "source": [
    "#so generally...\n",
    "\n",
    "#info = soup.find(class_='infobox vevent')\n",
    "\n",
    "def get_credit(credit):\n",
    "    if info.find('th', string=credit) is not None:\n",
    "        res = info.find('th', string=credit).parent.stripped_strings\n",
    "    return list(res)[1:]"
   ]
  },
  {
   "cell_type": "code",
   "execution_count": 131,
   "metadata": {},
   "outputs": [
    {
     "data": {
      "text/plain": [
       "['Mario Puzo', 'Francis Ford Coppola']"
      ]
     },
     "execution_count": 131,
     "metadata": {},
     "output_type": "execute_result"
    }
   ],
   "source": [
    "get_credit('Screenplay by')"
   ]
  },
  {
   "cell_type": "code",
   "execution_count": 122,
   "metadata": {},
   "outputs": [],
   "source": [
    "#use \n",
    "#soup.find(id='noarticletext') \n",
    "#to check for nonexistent page"
   ]
  },
  {
   "cell_type": "code",
   "execution_count": null,
   "metadata": {},
   "outputs": [],
   "source": []
  }
 ],
 "metadata": {
  "kernelspec": {
   "display_name": "Python 3",
   "language": "python",
   "name": "python3"
  },
  "language_info": {
   "codemirror_mode": {
    "name": "ipython",
    "version": 3
   },
   "file_extension": ".py",
   "mimetype": "text/x-python",
   "name": "python",
   "nbconvert_exporter": "python",
   "pygments_lexer": "ipython3",
   "version": "3.7.6"
  }
 },
 "nbformat": 4,
 "nbformat_minor": 4
}
