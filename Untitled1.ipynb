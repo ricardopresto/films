{
 "cells": [
  {
   "cell_type": "code",
   "execution_count": 1,
   "metadata": {},
   "outputs": [],
   "source": [
    "import numpy as np\n",
    "import pandas as pd"
   ]
  },
  {
   "cell_type": "code",
   "execution_count": 139,
   "metadata": {},
   "outputs": [],
   "source": [
    "filename = 'films_1972.pkl'\n",
    "file = pd.read_pickle(filename)"
   ]
  },
  {
   "cell_type": "code",
   "execution_count": 133,
   "metadata": {},
   "outputs": [
    {
     "data": {
      "text/html": [
       "<div>\n",
       "<style scoped>\n",
       "    .dataframe tbody tr th:only-of-type {\n",
       "        vertical-align: middle;\n",
       "    }\n",
       "\n",
       "    .dataframe tbody tr th {\n",
       "        vertical-align: top;\n",
       "    }\n",
       "\n",
       "    .dataframe thead th {\n",
       "        text-align: right;\n",
       "    }\n",
       "</style>\n",
       "<table border=\"1\" class=\"dataframe\">\n",
       "  <thead>\n",
       "    <tr style=\"text-align: right;\">\n",
       "      <th></th>\n",
       "      <th>title</th>\n",
       "      <th>director</th>\n",
       "      <th>producer</th>\n",
       "      <th>writer</th>\n",
       "      <th>cast</th>\n",
       "      <th>music</th>\n",
       "      <th>cinematography</th>\n",
       "      <th>editing</th>\n",
       "      <th>distribution</th>\n",
       "      <th>time</th>\n",
       "      <th>language</th>\n",
       "      <th>budget</th>\n",
       "      <th>box_office</th>\n",
       "    </tr>\n",
       "  </thead>\n",
       "  <tbody>\n",
       "    <tr>\n",
       "      <th>38</th>\n",
       "      <td>Seven Brides for Seven Brothers</td>\n",
       "      <td>[Stanley Donen]</td>\n",
       "      <td>[Jack Cummings]</td>\n",
       "      <td>[Albert Hackett, Frances Goodrich, Dorothy Kin...</td>\n",
       "      <td>[Howard Keel, Jane Powell, Jeff Richards, Matt...</td>\n",
       "      <td>[Gene de Paul, Johnny Mercer, Adolph Deutsch, ...</td>\n",
       "      <td>[George J. Folsey]</td>\n",
       "      <td>[Ralph E. Winters]</td>\n",
       "      <td>[Loew's, Inc.]</td>\n",
       "      <td>102</td>\n",
       "      <td>[English]</td>\n",
       "      <td>2,540,000</td>\n",
       "      <td>9,403,000</td>\n",
       "    </tr>\n",
       "  </tbody>\n",
       "</table>\n",
       "</div>"
      ],
      "text/plain": [
       "                              title         director         producer  \\\n",
       "38  Seven Brides for Seven Brothers  [Stanley Donen]  [Jack Cummings]   \n",
       "\n",
       "                                               writer  \\\n",
       "38  [Albert Hackett, Frances Goodrich, Dorothy Kin...   \n",
       "\n",
       "                                                 cast  \\\n",
       "38  [Howard Keel, Jane Powell, Jeff Richards, Matt...   \n",
       "\n",
       "                                                music      cinematography  \\\n",
       "38  [Gene de Paul, Johnny Mercer, Adolph Deutsch, ...  [George J. Folsey]   \n",
       "\n",
       "               editing    distribution time   language     budget box_office  \n",
       "38  [Ralph E. Winters]  [Loew's, Inc.]  102  [English]  2,540,000  9,403,000  "
      ]
     },
     "execution_count": 133,
     "metadata": {},
     "output_type": "execute_result"
    }
   ],
   "source": [
    "file.query('title == \"Seven Brides for Seven Brothers\"')"
   ]
  },
  {
   "cell_type": "code",
   "execution_count": 134,
   "metadata": {},
   "outputs": [],
   "source": [
    "file = file.drop([38])"
   ]
  },
  {
   "cell_type": "code",
   "execution_count": null,
   "metadata": {},
   "outputs": [],
   "source": []
  },
  {
   "cell_type": "code",
   "execution_count": 136,
   "metadata": {},
   "outputs": [],
   "source": [
    "file.index = pd.RangeIndex(0,203)"
   ]
  },
  {
   "cell_type": "code",
   "execution_count": 137,
   "metadata": {},
   "outputs": [],
   "source": [
    "file.to_pickle(filename)"
   ]
  },
  {
   "cell_type": "code",
   "execution_count": 156,
   "metadata": {},
   "outputs": [
    {
     "data": {
      "text/plain": [
       "3300000"
      ]
     },
     "execution_count": 156,
     "metadata": {},
     "output_type": "execute_result"
    }
   ],
   "source": [
    "int(file.budget[0].replace(',', ''))"
   ]
  },
  {
   "cell_type": "code",
   "execution_count": 162,
   "metadata": {},
   "outputs": [
    {
     "data": {
      "text/plain": [
       "True"
      ]
     },
     "execution_count": 162,
     "metadata": {},
     "output_type": "execute_result"
    }
   ],
   "source": [
    "a = [1, 2, 0, 4, 5, 6]\n",
    "b = [i in a for i in [0, 7, 8, 9]]\n",
    "True in b"
   ]
  },
  {
   "cell_type": "code",
   "execution_count": 177,
   "metadata": {},
   "outputs": [
    {
     "data": {
      "text/plain": [
       "False"
      ]
     },
     "execution_count": 177,
     "metadata": {},
     "output_type": "execute_result"
    }
   ],
   "source": [
    "a = ['Columbia', 'Warner Distributors', 'Warner Bros. Pictures (US)']\n",
    "True in [x in n for n in a for x in ['Warner', 'Paramount']]"
   ]
  },
  {
   "cell_type": "code",
   "execution_count": 165,
   "metadata": {},
   "outputs": [
    {
     "data": {
      "text/plain": [
       "True"
      ]
     },
     "execution_count": 165,
     "metadata": {},
     "output_type": "execute_result"
    }
   ],
   "source": []
  },
  {
   "cell_type": "code",
   "execution_count": null,
   "metadata": {},
   "outputs": [],
   "source": []
  }
 ],
 "metadata": {
  "kernelspec": {
   "display_name": "Python 3",
   "language": "python",
   "name": "python3"
  },
  "language_info": {
   "codemirror_mode": {
    "name": "ipython",
    "version": 3
   },
   "file_extension": ".py",
   "mimetype": "text/x-python",
   "name": "python",
   "nbconvert_exporter": "python",
   "pygments_lexer": "ipython3",
   "version": "3.7.6"
  }
 },
 "nbformat": 4,
 "nbformat_minor": 4
}
